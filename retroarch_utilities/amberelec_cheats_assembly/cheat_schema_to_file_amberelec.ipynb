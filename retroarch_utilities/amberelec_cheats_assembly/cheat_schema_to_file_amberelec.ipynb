{
 "cells": [
  {
   "cell_type": "code",
   "execution_count": 1,
   "id": "30a4421e",
   "metadata": {},
   "outputs": [],
   "source": [
    "import re"
   ]
  },
  {
   "cell_type": "code",
   "execution_count": 2,
   "id": "73d5ec8c",
   "metadata": {},
   "outputs": [],
   "source": [
    "def process_cht_input(cheat, cheat_count, debug):\n",
    "    cheat_output_partial = \"\"\n",
    "    linecount = 0\n",
    "    current_code_template=\"\"\n",
    "    codes_list_struct = []\n",
    "    codes_description_global = \"\"\n",
    "    single_patt = re.compile(\"^Codes \\(single\\)$\")\n",
    "    list_patt = re.compile(\"^Codes \\(list\\)$\")\n",
    "    code_patt = re.compile(\"^(.*) - .*$\")\n",
    "    desc_patt = re.compile(\"^.* - (.*)$\")\n",
    "    current_cheat_is_list, current_cheat_is_single = False, False\n",
    "    \n",
    "    for line in cheat.splitlines():\n",
    "        if line == \"\" or line[0] == \"#\":\n",
    "            if debug:\n",
    "                print(str(linecount)+\" Comment: \"+line)\n",
    "            linecount += 1\n",
    "            continue\n",
    "        \n",
    "        if linecount == 0:\n",
    "            codes_description_global = line\n",
    "            if debug:\n",
    "                print(str(linecount)+\" Code description: \"+codes_description_global)\n",
    "            linecount += 1\n",
    "            continue\n",
    "        \n",
    "        if \"code template\" in line:\n",
    "            current_code_template = line\n",
    "            if debug:\n",
    "                print(str(linecount)+\" Current Code Template: \"+current_code_template)\n",
    "            linecount += 1\n",
    "            continue\n",
    "        \n",
    "        if single_patt.match(line):\n",
    "            current_cheat_is_single = True\n",
    "            linecount += 1\n",
    "            continue\n",
    "            \n",
    "        if current_cheat_is_single:\n",
    "            curr_cheat = {\"Desc\":codes_description_global,\"Code\":line}\n",
    "            codes_list_struct.append(curr_cheat)\n",
    "            #current_cheat_is_single = False\n",
    "            linecount += 1\n",
    "            continue\n",
    "        \n",
    "        if list_patt.match(line):\n",
    "            current_cheat_is_list = True\n",
    "            linecount += 1\n",
    "            continue\n",
    "        \n",
    "        if current_cheat_is_list:\n",
    "            if debug:\n",
    "                print(\"enire list cheat line:\"+line)\n",
    "            cheat_code_str = code_patt.search(line).group(1).replace(\" \",\"+\")\n",
    "            desc_str = codes_description_global+\": \"+desc_patt.search(line).group(1)\n",
    "            \n",
    "            if debug:\n",
    "                print(\"cheat code str: \"+cheat_code_str)\n",
    "                print(\"desc str: \"+desc_str+\"\\n\")\n",
    "            \n",
    "            curr_cheat = {\"Desc\":desc_str,\"Code\":cheat_code_str}\n",
    "            codes_list_struct.append(curr_cheat)\n",
    "            linecount += 1\n",
    "            continue # for completeness\n",
    "            \n",
    "    \n",
    "    for idx,cheat_struct in enumerate(codes_list_struct):\n",
    "        cheat_output_partial +='''\n",
    "cheat'''+str(idx+cheat_count)+'''_desc = \"'''+cheat_struct[\"Desc\"]+'''\"\n",
    "cheat'''+str(idx+cheat_count)+'''_code = \"'''+cheat_struct[\"Code\"]+'''\"\n",
    "cheat'''+str(idx+cheat_count)+'''_enable = false\n",
    "'''\n",
    "    if debug:\n",
    "        print(cheat_output_partial)\n",
    "        \n",
    "    return cheat_output_partial, len(codes_list_struct)"
   ]
  },
  {
   "cell_type": "code",
   "execution_count": 3,
   "id": "766bce00",
   "metadata": {
    "scrolled": true
   },
   "outputs": [
    {
     "name": "stdout",
     "output_type": "stream",
     "text": [
      "split length is: 15\n",
      "---- processed cheat block 0 ----\n",
      "---- processed cheat block 1 ----\n",
      "---- processed cheat block 2 ----\n",
      "---- processed cheat block 3 ----\n",
      "---- processed cheat block 4 ----\n",
      "---- processed cheat block 5 ----\n",
      "---- processed cheat block 6 ----\n",
      "---- processed cheat block 7 ----\n",
      "---- processed cheat block 8 ----\n",
      "---- processed cheat block 9 ----\n",
      "---- processed cheat block 10 ----\n",
      "---- processed cheat block 11 ----\n",
      "---- processed cheat block 12 ----\n",
      "---- processed cheat block 13 ----\n",
      "---- processed cheat block 14 ----\n",
      "total processed cheats: 1290\n"
     ]
    }
   ],
   "source": [
    "cht_file_str = ''''''\n",
    "cheat_count = 0\n",
    "debug = False\n",
    "#change these variables to match your needs\n",
    "cht_output_dir=\"./cheats/\"\n",
    "cht_output_fname=\"unbound.cht\"\n",
    "input_fname=\"./input/pokemon_unbound_cheat_input_formatted.txt\"\n",
    "\n",
    "with open(input_fname,'r') as data_file:\n",
    "    split = data_file.read().split('----------\\n')\n",
    "    print(\"split length is: \"+str(len(split)))\n",
    "    for idx,cheat in enumerate(split):\n",
    "        processed_cheat, curr_count = process_cht_input(cheat, cheat_count, debug)\n",
    "        cheat_count += curr_count\n",
    "        print(\"---- processed cheat block \"+str(idx)+\" ----\")\n",
    "        if debug:\n",
    "            print(processed_cheat)\n",
    "        cht_file_str+=processed_cheat\n",
    "    print(\"total processed cheats: \"+str(cheat_count))"
   ]
  },
  {
   "cell_type": "code",
   "execution_count": 4,
   "id": "e94beec4",
   "metadata": {},
   "outputs": [],
   "source": [
    "cht_file_str = \"cheats = \"+str(cheat_count)+\"\\n\" + cht_file_str"
   ]
  },
  {
   "cell_type": "code",
   "execution_count": 5,
   "id": "e652b9cf",
   "metadata": {
    "scrolled": true
   },
   "outputs": [],
   "source": [
    "if debug: \n",
    "    print(cht_file_str)"
   ]
  },
  {
   "cell_type": "code",
   "execution_count": 6,
   "id": "00ffe350",
   "metadata": {},
   "outputs": [],
   "source": [
    "with open(cht_output_dir+cht_output_fname,'w') as cht_file:\n",
    "    cht_file.write(cht_file_str)"
   ]
  },
  {
   "cell_type": "code",
   "execution_count": null,
   "id": "4567a2fd",
   "metadata": {},
   "outputs": [],
   "source": []
  },
  {
   "cell_type": "code",
   "execution_count": null,
   "id": "108d4b4f",
   "metadata": {},
   "outputs": [],
   "source": []
  }
 ],
 "metadata": {
  "kernelspec": {
   "display_name": "Python 3 (ipykernel)",
   "language": "python",
   "name": "python3"
  },
  "language_info": {
   "codemirror_mode": {
    "name": "ipython",
    "version": 3
   },
   "file_extension": ".py",
   "mimetype": "text/x-python",
   "name": "python",
   "nbconvert_exporter": "python",
   "pygments_lexer": "ipython3",
   "version": "3.7.7"
  }
 },
 "nbformat": 4,
 "nbformat_minor": 5
}
